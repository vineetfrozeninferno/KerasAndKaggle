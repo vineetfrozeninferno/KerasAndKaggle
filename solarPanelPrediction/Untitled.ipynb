{
 "cells": [
  {
   "cell_type": "code",
   "execution_count": 1,
   "metadata": {},
   "outputs": [],
   "source": [
    "import pandas as pd"
   ]
  },
  {
   "cell_type": "code",
   "execution_count": 3,
   "metadata": {},
   "outputs": [],
   "source": [
    "solarDataRaw = pd.read_csv(\"solar.csv\", parse_dates=['datetime'])"
   ]
  },
  {
   "cell_type": "code",
   "execution_count": 5,
   "metadata": {},
   "outputs": [
    {
     "data": {
      "text/html": [
       "<div>\n",
       "<style>\n",
       "    .dataframe thead tr:only-child th {\n",
       "        text-align: right;\n",
       "    }\n",
       "\n",
       "    .dataframe thead th {\n",
       "        text-align: left;\n",
       "    }\n",
       "\n",
       "    .dataframe tbody tr th {\n",
       "        vertical-align: top;\n",
       "    }\n",
       "</style>\n",
       "<table border=\"1\" class=\"dataframe\">\n",
       "  <thead>\n",
       "    <tr style=\"text-align: right;\">\n",
       "      <th></th>\n",
       "      <th>date</th>\n",
       "      <th>time</th>\n",
       "      <th>solar.current</th>\n",
       "      <th>solar.total</th>\n",
       "    </tr>\n",
       "  </thead>\n",
       "  <tbody>\n",
       "    <tr>\n",
       "      <th>0</th>\n",
       "      <td>2013-12-01</td>\n",
       "      <td>07:00:00</td>\n",
       "      <td>6.300000</td>\n",
       "      <td>1.69</td>\n",
       "    </tr>\n",
       "    <tr>\n",
       "      <th>1</th>\n",
       "      <td>2013-12-01</td>\n",
       "      <td>07:30:00</td>\n",
       "      <td>44.299999</td>\n",
       "      <td>11.36</td>\n",
       "    </tr>\n",
       "    <tr>\n",
       "      <th>2</th>\n",
       "      <td>2013-12-01</td>\n",
       "      <td>08:00:00</td>\n",
       "      <td>208.000000</td>\n",
       "      <td>67.50</td>\n",
       "    </tr>\n",
       "    <tr>\n",
       "      <th>3</th>\n",
       "      <td>2013-12-01</td>\n",
       "      <td>08:30:00</td>\n",
       "      <td>482.000000</td>\n",
       "      <td>250.50</td>\n",
       "    </tr>\n",
       "    <tr>\n",
       "      <th>4</th>\n",
       "      <td>2013-12-01</td>\n",
       "      <td>09:00:00</td>\n",
       "      <td>774.000000</td>\n",
       "      <td>573.50</td>\n",
       "    </tr>\n",
       "  </tbody>\n",
       "</table>\n",
       "</div>"
      ],
      "text/plain": [
       "         date      time  solar.current  solar.total\n",
       "0  2013-12-01  07:00:00       6.300000         1.69\n",
       "1  2013-12-01  07:30:00      44.299999        11.36\n",
       "2  2013-12-01  08:00:00     208.000000        67.50\n",
       "3  2013-12-01  08:30:00     482.000000       250.50\n",
       "4  2013-12-01  09:00:00     774.000000       573.50"
      ]
     },
     "execution_count": 5,
     "metadata": {},
     "output_type": "execute_result"
    }
   ],
   "source": [
    "dateDF = pd.DataFrame([(str(dt.date()), str(dt.time())) for dt in solarDataRaw['datetime']], columns=[\"date\",\"time\"])\n",
    "solarDataWithDateDF = pd.concat([dateDF, solarDataRaw], axis=1)[['date', 'time', 'solar.current', 'solar.total']]\n",
    "solarDataWithDateDF.head()"
   ]
  },
  {
   "cell_type": "code",
   "execution_count": null,
   "metadata": {},
   "outputs": [],
   "source": []
  },
  {
   "cell_type": "code",
   "execution_count": null,
   "metadata": {},
   "outputs": [],
   "source": []
  }
 ],
 "metadata": {
  "kernelspec": {
   "display_name": "Python 3.6",
   "language": "python",
   "name": "python3.6"
  },
  "language_info": {
   "codemirror_mode": {
    "name": "ipython",
    "version": 3
   },
   "file_extension": ".py",
   "mimetype": "text/x-python",
   "name": "python",
   "nbconvert_exporter": "python",
   "pygments_lexer": "ipython3",
   "version": "3.6.5"
  }
 },
 "nbformat": 4,
 "nbformat_minor": 2
}

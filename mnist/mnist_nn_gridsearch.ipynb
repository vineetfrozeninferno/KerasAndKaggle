{
 "cells": [
  {
   "cell_type": "code",
   "execution_count": 17,
   "metadata": {
    "collapsed": true
   },
   "outputs": [],
   "source": [
    "from keras.datasets import mnist\n",
    "from keras.utils import np_utils\n",
    "from keras.models import Sequential\n",
    "from keras.layers import Dense, Dropout\n",
    "from keras.activations import relu, softmax\n",
    "from keras.optimizers import adam\n",
    "from keras.metrics import categorical_accuracy\n",
    "from keras.losses import categorical_crossentropy\n",
    "import talos\n",
    "import numpy"
   ]
  },
  {
   "cell_type": "code",
   "execution_count": 18,
   "metadata": {
    "collapsed": true
   },
   "outputs": [],
   "source": [
    "(x_train, y_train), (x_test, y_test) = mnist.load_data()"
   ]
  },
  {
   "cell_type": "code",
   "execution_count": 19,
   "metadata": {
    "collapsed": true
   },
   "outputs": [
    {
     "data": {
      "text/plain": [
       "(60000, 28, 28)"
      ]
     },
     "execution_count": 19,
     "metadata": {},
     "output_type": "execute_result"
    }
   ],
   "source": [
    "x_train.shape"
   ]
  },
  {
   "cell_type": "code",
   "execution_count": 20,
   "metadata": {
    "collapsed": true
   },
   "outputs": [],
   "source": [
    "def preprocess(x, y, input_dim, output_dim):\n",
    "    x_processed = x.reshape(x.shape[0], input_dim).astype('float32')\n",
    "    x_processed = x_processed/255\n",
    "    y_processed = np_utils.to_categorical(y, output_dim)\n",
    "    return(x_processed, y_processed)"
   ]
  },
  {
   "cell_type": "code",
   "execution_count": 25,
   "metadata": {
    "collapsed": true
   },
   "outputs": [],
   "source": [
    "def create_model(x_train, y_train, x_val, y_val, params):\n",
    "    print(params)\n",
    "    model = Sequential()\n",
    "    model.add(Dense(int(params['L1']), activation = relu, input_shape=(28*28,)))\n",
    "    model.add(Dropout(int(params['D1'])))\n",
    "    model.add(Dense(int(params['L2']), activation = relu))\n",
    "    model.add(Dropout(int(params['D2'])))\n",
    "    model.add(Dense(10, activation = softmax))\n",
    "    \n",
    "    model.compile(adam(), loss=categorical_crossentropy, metrics=['acc'])\n",
    "    out = model.fit(x_train, y_train, batch_size=int(params['batch']), epochs=5, verbose=1, validation_data=[x_val, y_val])\n",
    "    return out, model"
   ]
  },
  {
   "cell_type": "code",
   "execution_count": 26,
   "metadata": {
    "collapsed": true
   },
   "outputs": [],
   "source": [
    "parameters = {\n",
    "    'L1': [500, 200],\n",
    "    'L2':[10, 2],\n",
    "    'D1':[0.2, 0.3],\n",
    "    'D2':[0.2, 0.1],\n",
    "    'batch':[64]\n",
    "}\n",
    "\n",
    "params2 = {'L1': 50.0, 'L2': 5.0, 'D1': 0.3, 'D2': 0.1, 'batch': 32.0}"
   ]
  },
  {
   "cell_type": "code",
   "execution_count": 27,
   "metadata": {
    "collapsed": true
   },
   "outputs": [],
   "source": [
    "(x_train_input, y_train_input) = preprocess(x_train, y_train, 28*28, 10)"
   ]
  },
  {
   "cell_type": "code",
   "execution_count": null,
   "metadata": {},
   "outputs": [],
   "source": []
  },
  {
   "cell_type": "code",
   "execution_count": 28,
   "metadata": {
    "scrolled": true
   },
   "outputs": [
    {
     "name": "stdout",
     "output_type": "stream",
     "text": [
      "{'L1': 200.0, 'L2': 10.0, 'D1': 0.3, 'D2': 0.2, 'batch': 64.0}\n",
      "Train on 42000 samples, validate on 18000 samples\n",
      "Epoch 1/5\n",
      "42000/42000 [==============================] - 8s 180us/step - loss: 0.4082 - acc: 0.8809 - val_loss: 0.2077 - val_acc: 0.9401\n",
      "Epoch 2/5\n",
      "42000/42000 [==============================] - 5s 108us/step - loss: 0.1552 - acc: 0.9560 - val_loss: 0.1392 - val_acc: 0.9593\n",
      "Epoch 3/5\n",
      "42000/42000 [==============================] - 4s 100us/step - loss: 0.1060 - acc: 0.9705 - val_loss: 0.1184 - val_acc: 0.9643\n",
      "Epoch 4/5\n",
      "42000/42000 [==============================] - 5s 120us/step - loss: 0.0805 - acc: 0.9760 - val_loss: 0.1046 - val_acc: 0.9683\n",
      "Epoch 5/5\n",
      "42000/42000 [==============================] - 4s 97us/step - loss: 0.0618 - acc: 0.9818 - val_loss: 0.1026 - val_acc: 0.9694\n",
      "{'L1': 200.0, 'L2': 10.0, 'D1': 0.3, 'D2': 0.2, 'batch': 64.0}\n",
      "Train on 42000 samples, validate on 18000 samples\n",
      "Epoch 1/5\n",
      "42000/42000 [==============================] - 4s 102us/step - loss: 0.4603 - acc: 0.8593 - val_loss: 0.1975 - val_acc: 0.9425\n",
      "Epoch 2/5\n",
      "42000/42000 [==============================] - 4s 106us/step - loss: 0.1589 - acc: 0.9549 - val_loss: 0.1504 - val_acc: 0.9557\n",
      "Epoch 3/5\n",
      "42000/42000 [==============================] - 4s 107us/step - loss: 0.1090 - acc: 0.9685 - val_loss: 0.1133 - val_acc: 0.9670\n",
      "Epoch 4/5\n",
      "42000/42000 [==============================] - 4s 106us/step - loss: 0.0830 - acc: 0.9759 - val_loss: 0.1037 - val_acc: 0.9688\n",
      "Epoch 5/5\n",
      "42000/42000 [==============================] - 5s 109us/step - loss: 0.0639 - acc: 0.9806 - val_loss: 0.0982 - val_acc: 0.9715\n"
     ]
    },
    {
     "name": "stderr",
     "output_type": "stream",
     "text": [
      "INFO:plaidml:Opening device \"metal_amd_radeon_r9_m370x.0\"\n"
     ]
    },
    {
     "name": "stdout",
     "output_type": "stream",
     "text": [
      "8 scans will take roughly 176 seconds\n",
      "{'L1': 200.0, 'L2': 10.0, 'D1': 0.2, 'D2': 0.1, 'batch': 64.0}\n",
      "Train on 42000 samples, validate on 18000 samples\n",
      "Epoch 1/5\n",
      "42000/42000 [==============================] - 7s 172us/step - loss: 0.4004 - acc: 0.8840 - val_loss: 0.1975 - val_acc: 0.9439\n",
      "Epoch 2/5\n",
      "42000/42000 [==============================] - 4s 104us/step - loss: 0.1559 - acc: 0.9546 - val_loss: 0.1534 - val_acc: 0.9554\n",
      "Epoch 3/5\n",
      "42000/42000 [==============================] - 4s 106us/step - loss: 0.1079 - acc: 0.9681 - val_loss: 0.1170 - val_acc: 0.9658\n",
      "Epoch 4/5\n",
      "42000/42000 [==============================] - 4s 105us/step - loss: 0.0813 - acc: 0.9763 - val_loss: 0.1089 - val_acc: 0.9681\n",
      "Epoch 5/5\n",
      "42000/42000 [==============================] - 5s 110us/step - loss: 0.0634 - acc: 0.9811 - val_loss: 0.0999 - val_acc: 0.9721\n"
     ]
    },
    {
     "name": "stderr",
     "output_type": "stream",
     "text": [
      "INFO:plaidml:Opening device \"metal_amd_radeon_r9_m370x.0\"\n"
     ]
    },
    {
     "name": "stdout",
     "output_type": "stream",
     "text": [
      "{'L1': 500.0, 'L2': 10.0, 'D1': 0.3, 'D2': 0.1, 'batch': 64.0}\n",
      "Train on 42000 samples, validate on 18000 samples\n",
      "Epoch 1/5\n",
      "42000/42000 [==============================] - 8s 200us/step - loss: 0.4067 - acc: 0.8794 - val_loss: 0.1662 - val_acc: 0.9539\n",
      "Epoch 2/5\n",
      "42000/42000 [==============================] - 5s 117us/step - loss: 0.1324 - acc: 0.9630 - val_loss: 0.1243 - val_acc: 0.9626\n",
      "Epoch 3/5\n",
      "42000/42000 [==============================] - 5s 114us/step - loss: 0.0867 - acc: 0.9757 - val_loss: 0.1029 - val_acc: 0.9706\n",
      "Epoch 4/5\n",
      "42000/42000 [==============================] - 5s 124us/step - loss: 0.0611 - acc: 0.9814 - val_loss: 0.0885 - val_acc: 0.9731\n",
      "Epoch 5/5\n",
      "42000/42000 [==============================] - 5s 125us/step - loss: 0.0448 - acc: 0.9862 - val_loss: 0.0922 - val_acc: 0.9728\n"
     ]
    },
    {
     "name": "stderr",
     "output_type": "stream",
     "text": [
      "INFO:plaidml:Opening device \"metal_amd_radeon_r9_m370x.0\"\n"
     ]
    },
    {
     "name": "stdout",
     "output_type": "stream",
     "text": [
      "{'L1': 200.0, 'L2': 2.0, 'D1': 0.2, 'D2': 0.1, 'batch': 64.0}\n",
      "Train on 42000 samples, validate on 18000 samples\n",
      "Epoch 1/5\n",
      "42000/42000 [==============================] - 6s 149us/step - loss: 1.5294 - acc: 0.4300 - val_loss: 1.2580 - val_acc: 0.5573\n",
      "Epoch 2/5\n",
      "42000/42000 [==============================] - 4s 105us/step - loss: 1.1056 - acc: 0.6354 - val_loss: 0.9660 - val_acc: 0.7371\n",
      "Epoch 3/5\n",
      "42000/42000 [==============================] - 5s 112us/step - loss: 0.8420 - acc: 0.7652 - val_loss: 0.7837 - val_acc: 0.7843\n",
      "Epoch 4/5\n",
      "42000/42000 [==============================] - 5s 119us/step - loss: 0.6979 - acc: 0.8012 - val_loss: 0.6917 - val_acc: 0.8085\n",
      "Epoch 5/5\n",
      "42000/42000 [==============================] - 5s 122us/step - loss: 0.6087 - acc: 0.8173 - val_loss: 0.6419 - val_acc: 0.8116\n"
     ]
    },
    {
     "name": "stderr",
     "output_type": "stream",
     "text": [
      "INFO:plaidml:Opening device \"metal_amd_radeon_r9_m370x.0\"\n"
     ]
    },
    {
     "name": "stdout",
     "output_type": "stream",
     "text": [
      "{'L1': 500.0, 'L2': 2.0, 'D1': 0.2, 'D2': 0.1, 'batch': 64.0}\n",
      "Train on 42000 samples, validate on 18000 samples\n",
      "Epoch 1/5\n",
      "42000/42000 [==============================] - 7s 155us/step - loss: 1.5026 - acc: 0.4121 - val_loss: 1.2471 - val_acc: 0.5091\n",
      "Epoch 2/5\n",
      "42000/42000 [==============================] - 5s 120us/step - loss: 1.0813 - acc: 0.6681 - val_loss: 0.9103 - val_acc: 0.7874\n",
      "Epoch 3/5\n",
      "42000/42000 [==============================] - 5s 127us/step - loss: 0.7635 - acc: 0.8046 - val_loss: 0.7052 - val_acc: 0.8110\n",
      "Epoch 4/5\n",
      "42000/42000 [==============================] - 5s 126us/step - loss: 0.6046 - acc: 0.8241 - val_loss: 0.6258 - val_acc: 0.8154\n",
      "Epoch 5/5\n",
      "42000/42000 [==============================] - 5s 126us/step - loss: 0.5126 - acc: 0.8351 - val_loss: 0.5689 - val_acc: 0.8231\n"
     ]
    },
    {
     "name": "stderr",
     "output_type": "stream",
     "text": [
      "INFO:plaidml:Opening device \"metal_amd_radeon_r9_m370x.0\"\n"
     ]
    },
    {
     "name": "stdout",
     "output_type": "stream",
     "text": [
      "{'L1': 500.0, 'L2': 10.0, 'D1': 0.3, 'D2': 0.2, 'batch': 64.0}\n",
      "Train on 42000 samples, validate on 18000 samples\n",
      "Epoch 1/5\n",
      "42000/42000 [==============================] - 6s 133us/step - loss: 0.3631 - acc: 0.8991 - val_loss: 0.1625 - val_acc: 0.9547\n",
      "Epoch 2/5\n",
      "42000/42000 [==============================] - 6s 137us/step - loss: 0.1290 - acc: 0.9628 - val_loss: 0.1144 - val_acc: 0.9656\n",
      "Epoch 3/5\n",
      "42000/42000 [==============================] - 6s 143us/step - loss: 0.0825 - acc: 0.9754 - val_loss: 0.0976 - val_acc: 0.9706\n",
      "Epoch 4/5\n",
      "42000/42000 [==============================] - 6s 147us/step - loss: 0.0588 - acc: 0.9826 - val_loss: 0.0885 - val_acc: 0.9728\n",
      "Epoch 5/5\n",
      "42000/42000 [==============================] - 6s 142us/step - loss: 0.0415 - acc: 0.9874 - val_loss: 0.0946 - val_acc: 0.9708\n"
     ]
    },
    {
     "name": "stderr",
     "output_type": "stream",
     "text": [
      "INFO:plaidml:Opening device \"metal_amd_radeon_r9_m370x.0\"\n"
     ]
    },
    {
     "name": "stdout",
     "output_type": "stream",
     "text": [
      "{'L1': 500.0, 'L2': 2.0, 'D1': 0.3, 'D2': 0.2, 'batch': 64.0}\n",
      "Train on 42000 samples, validate on 18000 samples\n",
      "Epoch 1/5\n",
      "42000/42000 [==============================] - 6s 136us/step - loss: 1.4313 - acc: 0.4525 - val_loss: 1.0935 - val_acc: 0.5879\n",
      "Epoch 2/5\n",
      "42000/42000 [==============================] - 5s 130us/step - loss: 0.9241 - acc: 0.7025 - val_loss: 0.7878 - val_acc: 0.8009\n",
      "Epoch 3/5\n",
      "42000/42000 [==============================] - 5s 128us/step - loss: 0.6913 - acc: 0.8173 - val_loss: 0.6451 - val_acc: 0.8253\n",
      "Epoch 4/5\n",
      "42000/42000 [==============================] - 5s 129us/step - loss: 0.5542 - acc: 0.8394 - val_loss: 0.5459 - val_acc: 0.8391\n",
      "Epoch 5/5\n",
      "42000/42000 [==============================] - 5s 120us/step - loss: 0.4685 - acc: 0.8491 - val_loss: 0.4970 - val_acc: 0.8432\n"
     ]
    },
    {
     "name": "stderr",
     "output_type": "stream",
     "text": [
      "INFO:plaidml:Opening device \"metal_amd_radeon_r9_m370x.0\"\n"
     ]
    },
    {
     "name": "stdout",
     "output_type": "stream",
     "text": [
      "{'L1': 500.0, 'L2': 10.0, 'D1': 0.2, 'D2': 0.1, 'batch': 64.0}\n",
      "Train on 42000 samples, validate on 18000 samples\n",
      "Epoch 1/5\n",
      "42000/42000 [==============================] - 6s 134us/step - loss: 0.3839 - acc: 0.8864 - val_loss: 0.1663 - val_acc: 0.9517\n",
      "Epoch 2/5\n",
      "42000/42000 [==============================] - 6s 135us/step - loss: 0.1305 - acc: 0.9618 - val_loss: 0.1157 - val_acc: 0.9652\n",
      "Epoch 3/5\n",
      "42000/42000 [==============================] - 5s 131us/step - loss: 0.0848 - acc: 0.9752 - val_loss: 0.0938 - val_acc: 0.9714\n",
      "Epoch 4/5\n",
      "42000/42000 [==============================] - 6s 132us/step - loss: 0.0593 - acc: 0.9821 - val_loss: 0.0903 - val_acc: 0.9717\n",
      "Epoch 5/5\n",
      "42000/42000 [==============================] - 6s 133us/step - loss: 0.0417 - acc: 0.9872 - val_loss: 0.0932 - val_acc: 0.9717\n",
      "Scan Finished!\n"
     ]
    }
   ],
   "source": [
    "final_model = talos.Scan(x = x_train_input,\n",
    "                         y = y_train_input,\n",
    "                         params=parameters,\n",
    "                         model=create_model,\n",
    "                         grid_downsample=0.5,\n",
    "                         dataset_name='mnist',\n",
    "                         experiment_no='2'\n",
    "                        )\n",
    "\n",
    "# create_model(x_train_input, y_train_input, 'f', 'b', params2)"
   ]
  },
  {
   "cell_type": "code",
   "execution_count": 41,
   "metadata": {},
   "outputs": [
    {
     "ename": "Unknown",
     "evalue": "Cross device functions not supported",
     "output_type": "error",
     "traceback": [
      "\u001b[0;31m---------------------------------------------------------------------------\u001b[0m",
      "\u001b[0;31mUnknown\u001b[0m                                   Traceback (most recent call last)",
      "\u001b[0;32m<ipython-input-41-20e39ce6c2c1>\u001b[0m in \u001b[0;36m<module>\u001b[0;34m()\u001b[0m\n\u001b[1;32m      1\u001b[0m \u001b[0;34m(\u001b[0m\u001b[0mx_test_ip\u001b[0m\u001b[0;34m,\u001b[0m \u001b[0my_test_ip\u001b[0m\u001b[0;34m)\u001b[0m \u001b[0;34m=\u001b[0m \u001b[0mpreprocess\u001b[0m\u001b[0;34m(\u001b[0m\u001b[0mx_test\u001b[0m\u001b[0;34m,\u001b[0m \u001b[0my_test\u001b[0m\u001b[0;34m,\u001b[0m \u001b[0;36m28\u001b[0m\u001b[0;34m*\u001b[0m\u001b[0;36m28\u001b[0m\u001b[0;34m,\u001b[0m \u001b[0;36m10\u001b[0m\u001b[0;34m)\u001b[0m\u001b[0;34m\u001b[0m\u001b[0m\n\u001b[0;32m----> 2\u001b[0;31m \u001b[0mfinal_model\u001b[0m\u001b[0;34m.\u001b[0m\u001b[0mkeras_model\u001b[0m\u001b[0;34m.\u001b[0m\u001b[0mevaluate\u001b[0m\u001b[0;34m(\u001b[0m\u001b[0mx_test_ip\u001b[0m\u001b[0;34m,\u001b[0m \u001b[0my_test_ip\u001b[0m\u001b[0;34m)\u001b[0m\u001b[0;34m\u001b[0m\u001b[0m\n\u001b[0m",
      "\u001b[0;32m/usr/local/lib/python3.7/site-packages/keras/engine/training.py\u001b[0m in \u001b[0;36mevaluate\u001b[0;34m(self, x, y, batch_size, verbose, sample_weight, steps)\u001b[0m\n\u001b[1;32m   1109\u001b[0m                                          \u001b[0mbatch_size\u001b[0m\u001b[0;34m=\u001b[0m\u001b[0mbatch_size\u001b[0m\u001b[0;34m,\u001b[0m\u001b[0;34m\u001b[0m\u001b[0m\n\u001b[1;32m   1110\u001b[0m                                          \u001b[0mverbose\u001b[0m\u001b[0;34m=\u001b[0m\u001b[0mverbose\u001b[0m\u001b[0;34m,\u001b[0m\u001b[0;34m\u001b[0m\u001b[0m\n\u001b[0;32m-> 1111\u001b[0;31m                                          steps=steps)\n\u001b[0m\u001b[1;32m   1112\u001b[0m \u001b[0;34m\u001b[0m\u001b[0m\n\u001b[1;32m   1113\u001b[0m     def predict(self, x,\n",
      "\u001b[0;32m/usr/local/lib/python3.7/site-packages/keras/engine/training_arrays.py\u001b[0m in \u001b[0;36mtest_loop\u001b[0;34m(model, f, ins, batch_size, verbose, steps)\u001b[0m\n\u001b[1;32m    390\u001b[0m                 \u001b[0mins_batch\u001b[0m\u001b[0;34m[\u001b[0m\u001b[0mi\u001b[0m\u001b[0;34m]\u001b[0m \u001b[0;34m=\u001b[0m \u001b[0mins_batch\u001b[0m\u001b[0;34m[\u001b[0m\u001b[0mi\u001b[0m\u001b[0;34m]\u001b[0m\u001b[0;34m.\u001b[0m\u001b[0mtoarray\u001b[0m\u001b[0;34m(\u001b[0m\u001b[0;34m)\u001b[0m\u001b[0;34m\u001b[0m\u001b[0m\n\u001b[1;32m    391\u001b[0m \u001b[0;34m\u001b[0m\u001b[0m\n\u001b[0;32m--> 392\u001b[0;31m             \u001b[0mbatch_outs\u001b[0m \u001b[0;34m=\u001b[0m \u001b[0mf\u001b[0m\u001b[0;34m(\u001b[0m\u001b[0mins_batch\u001b[0m\u001b[0;34m)\u001b[0m\u001b[0;34m\u001b[0m\u001b[0m\n\u001b[0m\u001b[1;32m    393\u001b[0m             \u001b[0;32mif\u001b[0m \u001b[0misinstance\u001b[0m\u001b[0;34m(\u001b[0m\u001b[0mbatch_outs\u001b[0m\u001b[0;34m,\u001b[0m \u001b[0mlist\u001b[0m\u001b[0;34m)\u001b[0m\u001b[0;34m:\u001b[0m\u001b[0;34m\u001b[0m\u001b[0m\n\u001b[1;32m    394\u001b[0m                 \u001b[0;32mif\u001b[0m \u001b[0mbatch_index\u001b[0m \u001b[0;34m==\u001b[0m \u001b[0;36m0\u001b[0m\u001b[0;34m:\u001b[0m\u001b[0;34m\u001b[0m\u001b[0m\n",
      "\u001b[0;32m/usr/local/lib/python3.7/site-packages/plaidml/keras/backend.py\u001b[0m in \u001b[0;36m__call__\u001b[0;34m(self, inputs)\u001b[0m\n\u001b[1;32m    163\u001b[0m             \u001b[0mself\u001b[0m\u001b[0;34m.\u001b[0m\u001b[0m_invoker\u001b[0m\u001b[0;34m.\u001b[0m\u001b[0mset_output\u001b[0m\u001b[0;34m(\u001b[0m\u001b[0mname\u001b[0m\u001b[0;34m,\u001b[0m \u001b[0mt\u001b[0m\u001b[0;34m)\u001b[0m\u001b[0;34m\u001b[0m\u001b[0m\n\u001b[1;32m    164\u001b[0m \u001b[0;34m\u001b[0m\u001b[0m\n\u001b[0;32m--> 165\u001b[0;31m         \u001b[0mself\u001b[0m\u001b[0;34m.\u001b[0m\u001b[0m_invoker\u001b[0m\u001b[0;34m.\u001b[0m\u001b[0minvoke\u001b[0m\u001b[0;34m(\u001b[0m\u001b[0;34m)\u001b[0m\u001b[0;34m\u001b[0m\u001b[0m\n\u001b[0m\u001b[1;32m    166\u001b[0m \u001b[0;34m\u001b[0m\u001b[0m\n\u001b[1;32m    167\u001b[0m         \u001b[0;32mreturn\u001b[0m \u001b[0;34m[\u001b[0m\u001b[0mt\u001b[0m\u001b[0;34m.\u001b[0m\u001b[0mas_ndarray\u001b[0m\u001b[0;34m(\u001b[0m\u001b[0m_ctx\u001b[0m\u001b[0;34m)\u001b[0m \u001b[0;32mfor\u001b[0m \u001b[0mt\u001b[0m \u001b[0;32min\u001b[0m \u001b[0mtensors\u001b[0m\u001b[0;34m]\u001b[0m\u001b[0;34m\u001b[0m\u001b[0m\n",
      "\u001b[0;32m/usr/local/lib/python3.7/site-packages/plaidml/__init__.py\u001b[0m in \u001b[0;36minvoke\u001b[0;34m(self)\u001b[0m\n\u001b[1;32m   1430\u001b[0m \u001b[0;34m\u001b[0m\u001b[0m\n\u001b[1;32m   1431\u001b[0m     \u001b[0;32mdef\u001b[0m \u001b[0minvoke\u001b[0m\u001b[0;34m(\u001b[0m\u001b[0mself\u001b[0m\u001b[0;34m)\u001b[0m\u001b[0;34m:\u001b[0m\u001b[0;34m\u001b[0m\u001b[0m\n\u001b[0;32m-> 1432\u001b[0;31m         \u001b[0;32mreturn\u001b[0m \u001b[0mInvocation\u001b[0m\u001b[0;34m(\u001b[0m\u001b[0mself\u001b[0m\u001b[0;34m.\u001b[0m\u001b[0m_ctx\u001b[0m\u001b[0;34m,\u001b[0m \u001b[0mself\u001b[0m\u001b[0;34m)\u001b[0m\u001b[0;34m\u001b[0m\u001b[0m\n\u001b[0m\u001b[1;32m   1433\u001b[0m \u001b[0;34m\u001b[0m\u001b[0m\n\u001b[1;32m   1434\u001b[0m \u001b[0;34m\u001b[0m\u001b[0m\n",
      "\u001b[0;32m/usr/local/lib/python3.7/site-packages/plaidml/__init__.py\u001b[0m in \u001b[0;36m__init__\u001b[0;34m(self, ctx, invoker)\u001b[0m\n\u001b[1;32m   1436\u001b[0m \u001b[0;34m\u001b[0m\u001b[0m\n\u001b[1;32m   1437\u001b[0m     \u001b[0;32mdef\u001b[0m \u001b[0m__init__\u001b[0m\u001b[0;34m(\u001b[0m\u001b[0mself\u001b[0m\u001b[0;34m,\u001b[0m \u001b[0mctx\u001b[0m\u001b[0;34m,\u001b[0m \u001b[0minvoker\u001b[0m\u001b[0;34m)\u001b[0m\u001b[0;34m:\u001b[0m\u001b[0;34m\u001b[0m\u001b[0m\n\u001b[0;32m-> 1438\u001b[0;31m         \u001b[0mself\u001b[0m\u001b[0;34m.\u001b[0m\u001b[0m_as_parameter_\u001b[0m \u001b[0;34m=\u001b[0m \u001b[0m_lib\u001b[0m\u001b[0;34m(\u001b[0m\u001b[0;34m)\u001b[0m\u001b[0;34m.\u001b[0m\u001b[0mplaidml_schedule_invocation\u001b[0m\u001b[0;34m(\u001b[0m\u001b[0mctx\u001b[0m\u001b[0;34m,\u001b[0m \u001b[0minvoker\u001b[0m\u001b[0;34m)\u001b[0m\u001b[0;34m\u001b[0m\u001b[0m\n\u001b[0m\u001b[1;32m   1439\u001b[0m         \u001b[0mself\u001b[0m\u001b[0;34m.\u001b[0m\u001b[0m_free\u001b[0m \u001b[0;34m=\u001b[0m \u001b[0m_lib\u001b[0m\u001b[0;34m(\u001b[0m\u001b[0;34m)\u001b[0m\u001b[0;34m.\u001b[0m\u001b[0mplaidml_free_invocation\u001b[0m\u001b[0;34m\u001b[0m\u001b[0m\n\u001b[1;32m   1440\u001b[0m \u001b[0;34m\u001b[0m\u001b[0m\n",
      "\u001b[0;32m/usr/local/lib/python3.7/site-packages/plaidml/__init__.py\u001b[0m in \u001b[0;36m_check_err\u001b[0;34m(self, result, func, args)\u001b[0m\n\u001b[1;32m    714\u001b[0m         \u001b[0;32mif\u001b[0m \u001b[0mfunc\u001b[0m \u001b[0;34m==\u001b[0m \u001b[0mself\u001b[0m\u001b[0;34m.\u001b[0m\u001b[0mplaidml_map_buffer_current\u001b[0m \u001b[0;32mand\u001b[0m \u001b[0margs\u001b[0m\u001b[0;34m[\u001b[0m\u001b[0;36m2\u001b[0m\u001b[0;34m]\u001b[0m\u001b[0;34m:\u001b[0m\u001b[0;34m\u001b[0m\u001b[0m\n\u001b[1;32m    715\u001b[0m             \u001b[0;32mreturn\u001b[0m \u001b[0;32mNone\u001b[0m\u001b[0;34m\u001b[0m\u001b[0m\n\u001b[0;32m--> 716\u001b[0;31m         \u001b[0mself\u001b[0m\u001b[0;34m.\u001b[0m\u001b[0mraise_last_status\u001b[0m\u001b[0;34m(\u001b[0m\u001b[0;34m)\u001b[0m\u001b[0;34m\u001b[0m\u001b[0m\n\u001b[0m\u001b[1;32m    717\u001b[0m \u001b[0;34m\u001b[0m\u001b[0m\n\u001b[1;32m    718\u001b[0m \u001b[0;34m\u001b[0m\u001b[0m\n",
      "\u001b[0;32m/usr/local/lib/python3.7/site-packages/plaidml/library.py\u001b[0m in \u001b[0;36mraise_last_status\u001b[0;34m(self)\u001b[0m\n\u001b[1;32m    129\u001b[0m \u001b[0;34m\u001b[0m\u001b[0m\n\u001b[1;32m    130\u001b[0m     \u001b[0;32mdef\u001b[0m \u001b[0mraise_last_status\u001b[0m\u001b[0;34m(\u001b[0m\u001b[0mself\u001b[0m\u001b[0;34m)\u001b[0m\u001b[0;34m:\u001b[0m\u001b[0;34m\u001b[0m\u001b[0m\n\u001b[0;32m--> 131\u001b[0;31m         \u001b[0;32mraise\u001b[0m \u001b[0mself\u001b[0m\u001b[0;34m.\u001b[0m\u001b[0mlast_status\u001b[0m\u001b[0;34m(\u001b[0m\u001b[0;34m)\u001b[0m\u001b[0;34m\u001b[0m\u001b[0m\n\u001b[0m\u001b[1;32m    132\u001b[0m \u001b[0;34m\u001b[0m\u001b[0m\n\u001b[1;32m    133\u001b[0m     \u001b[0;32mdef\u001b[0m \u001b[0m_logger_callback\u001b[0m\u001b[0;34m(\u001b[0m\u001b[0mself\u001b[0m\u001b[0;34m,\u001b[0m \u001b[0munused_arg\u001b[0m\u001b[0;34m,\u001b[0m \u001b[0mlevel\u001b[0m\u001b[0;34m,\u001b[0m \u001b[0mmsg\u001b[0m\u001b[0;34m)\u001b[0m\u001b[0;34m:\u001b[0m\u001b[0;34m\u001b[0m\u001b[0m\n",
      "\u001b[0;31mUnknown\u001b[0m: Cross device functions not supported"
     ]
    }
   ],
   "source": [
    "(x_test_ip, y_test_ip) = preprocess(x_test, y_test, 28*28, 10)\n",
    "final_model.keras_model.evaluate(x_test_ip, y_test_ip)"
   ]
  },
  {
   "cell_type": "code",
   "execution_count": 30,
   "metadata": {},
   "outputs": [
    {
     "data": {
      "text/plain": [
       "{'L1': 500.0, 'L2': 10.0, 'D1': 0.2, 'D2': 0.1, 'batch': 64.0}"
      ]
     },
     "execution_count": 30,
     "metadata": {},
     "output_type": "execute_result"
    }
   ],
   "source": [
    "final_model.params"
   ]
  },
  {
   "cell_type": "code",
   "execution_count": 34,
   "metadata": {},
   "outputs": [
    {
     "data": {
      "text/plain": [
       "[]"
      ]
     },
     "execution_count": 34,
     "metadata": {},
     "output_type": "execute_result"
    }
   ],
   "source": []
  },
  {
   "cell_type": "code",
   "execution_count": null,
   "metadata": {},
   "outputs": [],
   "source": []
  }
 ],
 "metadata": {
  "kernelspec": {
   "display_name": "Python 3",
   "language": "python",
   "name": "python3"
  },
  "language_info": {
   "codemirror_mode": {
    "name": "ipython",
    "version": 3
   },
   "file_extension": ".py",
   "mimetype": "text/x-python",
   "name": "python",
   "nbconvert_exporter": "python",
   "pygments_lexer": "ipython3",
   "version": "3.7.0"
  }
 },
 "nbformat": 4,
 "nbformat_minor": 2
}

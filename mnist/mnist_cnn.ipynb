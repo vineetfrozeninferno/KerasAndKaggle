{
 "cells": [
  {
   "cell_type": "code",
   "execution_count": 17,
   "metadata": {},
   "outputs": [],
   "source": [
    "from keras.datasets import mnist\n",
    "from keras.utils import np_utils\n",
    "from keras.models import Sequential\n",
    "from keras.layers import Conv2D, MaxPool2D, Dense, Flatten, Dropout\n",
    "from keras.activations import softmax\n",
    "from keras.optimizers import Adam\n",
    "from keras.metrics import categorical_accuracy\n",
    "from keras.losses import categorical_crossentropy"
   ]
  },
  {
   "cell_type": "code",
   "execution_count": 18,
   "metadata": {},
   "outputs": [],
   "source": [
    "(x_train, y_train),(x_test, y_test) = mnist.load_data()"
   ]
  },
  {
   "cell_type": "code",
   "execution_count": 46,
   "metadata": {},
   "outputs": [],
   "source": [
    "def preprocess(x, y):\n",
    "    x_processed = x.reshape(x.shape[0], 28,28,1)\n",
    "    x_processed = x_processed / 255\n",
    "    y_processed = np_utils.to_categorical(y, 10)\n",
    "    return (x_processed, y_processed)"
   ]
  },
  {
   "cell_type": "code",
   "execution_count": 47,
   "metadata": {},
   "outputs": [],
   "source": [
    "(x, y) = preprocess(x_train, y_train)\n",
    "(xt, yt) = preprocess(x_test, y_test)"
   ]
  },
  {
   "cell_type": "code",
   "execution_count": 69,
   "metadata": {},
   "outputs": [],
   "source": [
    "model = Sequential()\n",
    "model.add(Conv2D(7, (15,15), input_shape=(28,28,1)))\n",
    "model.add(MaxPool2D((2,2)))\n",
    "model.add(Dropout(0.2))\n",
    "model.add(Conv2D(3, (5,5)))\n",
    "model.add(Flatten())\n",
    "model.add(Dense(10, activation=softmax))\n",
    "\n",
    "model.compile(Adam(), metrics=[categorical_accuracy], loss=categorical_crossentropy)"
   ]
  },
  {
   "cell_type": "code",
   "execution_count": 70,
   "metadata": {},
   "outputs": [
    {
     "name": "stdout",
     "output_type": "stream",
     "text": [
      "Epoch 1/13\n",
      "60000/60000 [==============================] - 12s 201us/step - loss: 0.6348 - categorical_accuracy: 0.8031\n",
      "Epoch 2/13\n",
      "60000/60000 [==============================] - 8s 133us/step - loss: 0.3606 - categorical_accuracy: 0.8943\n",
      "Epoch 3/13\n",
      "60000/60000 [==============================] - 8s 133us/step - loss: 0.3114 - categorical_accuracy: 0.9084\n",
      "Epoch 4/13\n",
      "60000/60000 [==============================] - 8s 132us/step - loss: 0.2893 - categorical_accuracy: 0.9142\n",
      "Epoch 5/13\n",
      "60000/60000 [==============================] - 8s 134us/step - loss: 0.2747 - categorical_accuracy: 0.9182\n",
      "Epoch 6/13\n",
      "60000/60000 [==============================] - 8s 135us/step - loss: 0.2625 - categorical_accuracy: 0.9237\n",
      "Epoch 7/13\n",
      "60000/60000 [==============================] - 8s 135us/step - loss: 0.2537 - categorical_accuracy: 0.9249\n",
      "Epoch 8/13\n",
      "60000/60000 [==============================] - 8s 134us/step - loss: 0.2447 - categorical_accuracy: 0.9258\n",
      "Epoch 9/13\n",
      "60000/60000 [==============================] - 8s 142us/step - loss: 0.2386 - categorical_accuracy: 0.9284\n",
      "Epoch 10/13\n",
      "60000/60000 [==============================] - 8s 138us/step - loss: 0.2367 - categorical_accuracy: 0.9294\n",
      "Epoch 11/13\n",
      "60000/60000 [==============================] - 8s 139us/step - loss: 0.2312 - categorical_accuracy: 0.9307\n",
      "Epoch 12/13\n",
      "60000/60000 [==============================] - 8s 136us/step - loss: 0.2260 - categorical_accuracy: 0.9319\n",
      "Epoch 13/13\n",
      "60000/60000 [==============================] - 8s 132us/step - loss: 0.2222 - categorical_accuracy: 0.9341\n"
     ]
    },
    {
     "data": {
      "text/plain": [
       "<keras.callbacks.History at 0x12987b518>"
      ]
     },
     "execution_count": 70,
     "metadata": {},
     "output_type": "execute_result"
    }
   ],
   "source": [
    "model.fit(x, y, batch_size=64, epochs=13)"
   ]
  },
  {
   "cell_type": "code",
   "execution_count": 71,
   "metadata": {},
   "outputs": [
    {
     "name": "stdout",
     "output_type": "stream",
     "text": [
      "10000/10000 [==============================] - 2s 207us/step\n"
     ]
    },
    {
     "data": {
      "text/plain": [
       "[0.16296817755699158, 0.9548]"
      ]
     },
     "execution_count": 71,
     "metadata": {},
     "output_type": "execute_result"
    }
   ],
   "source": [
    "model.evaluate(xt, yt)"
   ]
  },
  {
   "cell_type": "code",
   "execution_count": 72,
   "metadata": {},
   "outputs": [
    {
     "data": {
      "text/plain": [
       "array([7, 2, 1, 0, 4, 1, 4, 9, 6, 9, 0, 6, 9, 0, 1, 5, 9, 7, 3, 4, 9, 6,\n",
       "       6])"
      ]
     },
     "execution_count": 72,
     "metadata": {},
     "output_type": "execute_result"
    }
   ],
   "source": [
    "model.predict_classes(xt[0:23])"
   ]
  },
  {
   "cell_type": "code",
   "execution_count": 59,
   "metadata": {},
   "outputs": [
    {
     "data": {
      "text/plain": [
       "array([7, 2, 1, 0, 4, 1, 4, 9, 5, 9, 0, 6, 9, 0, 1, 5, 9, 7, 3, 4, 9, 6,\n",
       "       6], dtype=uint8)"
      ]
     },
     "execution_count": 59,
     "metadata": {},
     "output_type": "execute_result"
    }
   ],
   "source": [
    "y_test[0:23]"
   ]
  },
  {
   "cell_type": "code",
   "execution_count": null,
   "metadata": {},
   "outputs": [],
   "source": []
  }
 ],
 "metadata": {
  "kernelspec": {
   "display_name": "Python 3",
   "language": "python",
   "name": "python3"
  },
  "language_info": {
   "codemirror_mode": {
    "name": "ipython",
    "version": 3
   },
   "file_extension": ".py",
   "mimetype": "text/x-python",
   "name": "python",
   "nbconvert_exporter": "python",
   "pygments_lexer": "ipython3",
   "version": "3.7.0"
  }
 },
 "nbformat": 4,
 "nbformat_minor": 2
}

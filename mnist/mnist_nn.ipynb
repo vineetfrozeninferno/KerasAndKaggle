{
 "cells": [
  {
   "cell_type": "code",
   "execution_count": 129,
   "metadata": {},
   "outputs": [],
   "source": [
    "from keras.datasets import mnist\n",
    "from keras.models import Sequential\n",
    "from keras.layers import Dense, Dropout\n",
    "import numpy as np\n",
    "from keras.utils import np_utils\n",
    "from keras.optimizers import Adam\n",
    "from keras import metrics as kmetrics\n",
    "from keras import losses as klosses\n",
    "from keras import activations as act"
   ]
  },
  {
   "cell_type": "code",
   "execution_count": 130,
   "metadata": {},
   "outputs": [],
   "source": [
    "(x_train, y_train), (x_test, y_test) = mnist.load_data()"
   ]
  },
  {
   "cell_type": "code",
   "execution_count": 131,
   "metadata": {},
   "outputs": [
    {
     "data": {
      "text/plain": [
       "(60000, 28, 28)"
      ]
     },
     "execution_count": 131,
     "metadata": {},
     "output_type": "execute_result"
    }
   ],
   "source": [
    "x_train.shape"
   ]
  },
  {
   "cell_type": "code",
   "execution_count": 132,
   "metadata": {},
   "outputs": [],
   "source": [
    "def processInputOutput(x, y, feature_shape, output_categories):\n",
    "    x_processed = x.reshape(x.shape[0], feature_shape).astype('float32')\n",
    "    #normalize\n",
    "    x_processed = x_processed/255\n",
    "    y_processed = np_utils.to_categorical(y, output_categories)\n",
    "    return (x_processed, y_processed)"
   ]
  },
  {
   "cell_type": "code",
   "execution_count": 133,
   "metadata": {},
   "outputs": [],
   "source": [
    "(x_train_input, y_train_input) = processInputOutput(x_train, y_train, feature_shape=28*28, output_categories=10)"
   ]
  },
  {
   "cell_type": "code",
   "execution_count": 134,
   "metadata": {},
   "outputs": [
    {
     "data": {
      "text/plain": [
       "(60000, 784)"
      ]
     },
     "execution_count": 134,
     "metadata": {},
     "output_type": "execute_result"
    }
   ],
   "source": [
    "x_train_input.shape"
   ]
  },
  {
   "cell_type": "code",
   "execution_count": 136,
   "metadata": {},
   "outputs": [
    {
     "name": "stdout",
     "output_type": "stream",
     "text": [
      "_________________________________________________________________\n",
      "Layer (type)                 Output Shape              Param #   \n",
      "=================================================================\n",
      "dense_33 (Dense)             (None, 20)                15700     \n",
      "_________________________________________________________________\n",
      "dropout_13 (Dropout)         (None, 20)                0         \n",
      "_________________________________________________________________\n",
      "dense_34 (Dense)             (None, 10)                210       \n",
      "_________________________________________________________________\n",
      "dense_35 (Dense)             (None, 10)                110       \n",
      "=================================================================\n",
      "Total params: 16,020\n",
      "Trainable params: 16,020\n",
      "Non-trainable params: 0\n",
      "_________________________________________________________________\n"
     ]
    }
   ],
   "source": [
    "model = Sequential()\n",
    "model.add(Dense(20, activation=act.relu, input_shape = (784,)))\n",
    "model.add(Dropout(0.2))\n",
    "model.add(Dense(10, activation=act.relu))\n",
    "#model.add(Dropout(0.1))\n",
    "model.add(Dense(10, activation=act.softmax))\n",
    "model.summary()"
   ]
  },
  {
   "cell_type": "code",
   "execution_count": 128,
   "metadata": {},
   "outputs": [],
   "source": [
    "model.compile(Adam(), loss=klosses.categorical_crossentropy, metrics = [kmetrics.categorical_accuracy] )"
   ]
  },
  {
   "cell_type": "code",
   "execution_count": null,
   "metadata": {},
   "outputs": [
    {
     "name": "stdout",
     "output_type": "stream",
     "text": [
      "Epoch 1/7\n",
      "60000/60000 [==============================] - 7s 116us/step - loss: 0.7526 - categorical_accuracy: 0.7632\n",
      "Epoch 2/7\n",
      "60000/60000 [==============================] - 5s 78us/step - loss: 0.4013 - categorical_accuracy: 0.8761\n",
      "Epoch 3/7\n",
      "60000/60000 [==============================] - 5s 77us/step - loss: 0.3527 - categorical_accuracy: 0.8902\n",
      "Epoch 4/7\n",
      "60000/60000 [==============================] - 5s 77us/step - loss: 0.3306 - categorical_accuracy: 0.8965\n",
      "Epoch 5/7\n",
      "60000/60000 [==============================] - 5s 77us/step - loss: 0.3144 - categorical_accuracy: 0.9015\n",
      "Epoch 6/7\n",
      "36864/60000 [=================>............] - ETA: 1s - loss: 0.3058 - categorical_accuracy: 0.9038"
     ]
    }
   ],
   "source": [
    "model.fit(x_train_input, y_train_input, batch_size=64, epochs=7)"
   ]
  },
  {
   "cell_type": "code",
   "execution_count": 119,
   "metadata": {},
   "outputs": [],
   "source": [
    "(x_test_input, y_test_input) = processInputOutput(x_test, y_test, feature_shape=28*28*1, output_categories=10)"
   ]
  },
  {
   "cell_type": "code",
   "execution_count": 120,
   "metadata": {},
   "outputs": [
    {
     "name": "stdout",
     "output_type": "stream",
     "text": [
      "10000/10000 [==============================] - 1s 100us/step\n"
     ]
    },
    {
     "data": {
      "text/plain": [
       "[0.2392272114276886, 0.9313]"
      ]
     },
     "execution_count": 120,
     "metadata": {},
     "output_type": "execute_result"
    }
   ],
   "source": [
    "model.evaluate(x_test_input, y_test_input)"
   ]
  },
  {
   "cell_type": "code",
   "execution_count": null,
   "metadata": {},
   "outputs": [],
   "source": []
  }
 ],
 "metadata": {
  "kernelspec": {
   "display_name": "Python 3",
   "language": "python",
   "name": "python3"
  },
  "language_info": {
   "codemirror_mode": {
    "name": "ipython",
    "version": 3
   },
   "file_extension": ".py",
   "mimetype": "text/x-python",
   "name": "python",
   "nbconvert_exporter": "python",
   "pygments_lexer": "ipython3",
   "version": "3.7.0"
  }
 },
 "nbformat": 4,
 "nbformat_minor": 2
}

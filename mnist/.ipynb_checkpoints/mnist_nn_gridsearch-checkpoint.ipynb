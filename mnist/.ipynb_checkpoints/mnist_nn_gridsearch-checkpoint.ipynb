{
 "cells": [
  {
   "cell_type": "code",
   "execution_count": 17,
   "metadata": {
    "collapsed": true
   },
   "outputs": [],
   "source": [
    "from keras.datasets import mnist\n",
    "from keras.utils import np_utils\n",
    "from keras.models import Sequential\n",
    "from keras.layers import Dense, Dropout\n",
    "from keras.activations import relu, softmax\n",
    "from keras.optimizers import adam\n",
    "from keras.metrics import categorical_accuracy\n",
    "from keras.losses import categorical_crossentropy\n",
    "import talos\n",
    "import numpy"
   ]
  },
  {
   "cell_type": "code",
   "execution_count": 18,
   "metadata": {
    "collapsed": true
   },
   "outputs": [],
   "source": [
    "(x_train, y_train), (x_test, y_test) = mnist.load_data()"
   ]
  },
  {
   "cell_type": "code",
   "execution_count": 19,
   "metadata": {
    "collapsed": true
   },
   "outputs": [
    {
     "data": {
      "text/plain": [
       "(60000, 28, 28)"
      ]
     },
     "execution_count": 19,
     "metadata": {},
     "output_type": "execute_result"
    }
   ],
   "source": [
    "x_train.shape"
   ]
  },
  {
   "cell_type": "code",
   "execution_count": 20,
   "metadata": {
    "collapsed": true
   },
   "outputs": [],
   "source": [
    "def preprocess(x, y, input_dim, output_dim):\n",
    "    x_processed = x.reshape(x.shape[0], input_dim).astype('float32')\n",
    "    x_processed = x_processed/255\n",
    "    y_processed = np_utils.to_categorical(y, output_dim)\n",
    "    return(x_processed, y_processed)"
   ]
  },
  {
   "cell_type": "code",
   "execution_count": 25,
   "metadata": {
    "collapsed": true
   },
   "outputs": [],
   "source": [
    "def create_model(x_train, y_train, x_val, y_val, params):\n",
    "    print(params)\n",
    "    model = Sequential()\n",
    "    model.add(Dense(int(params['L1']), activation = relu, input_shape=(28*28,)))\n",
    "    model.add(Dropout(int(params['D1'])))\n",
    "    model.add(Dense(int(params['L2']), activation = relu))\n",
    "    model.add(Dropout(int(params['D2'])))\n",
    "    model.add(Dense(10, activation = softmax))\n",
    "    \n",
    "    model.compile(adam(), loss=categorical_crossentropy, metrics=['acc'])\n",
    "    out = model.fit(x_train, y_train, batch_size=int(params['batch']), epochs=5, verbose=1, validation_data=[x_val, y_val])\n",
    "    return out, model"
   ]
  },
  {
   "cell_type": "code",
   "execution_count": 26,
   "metadata": {
    "collapsed": true
   },
   "outputs": [],
   "source": [
    "parameters = {\n",
    "    'L1': [500, 200],\n",
    "    'L2':[10, 2],\n",
    "    'D1':[0.2, 0.3],\n",
    "    'D2':[0.2, 0.1],\n",
    "    'batch':[64]\n",
    "}\n",
    "\n",
    "params2 = {'L1': 50.0, 'L2': 5.0, 'D1': 0.3, 'D2': 0.1, 'batch': 32.0}"
   ]
  },
  {
   "cell_type": "code",
   "execution_count": 27,
   "metadata": {
    "collapsed": true
   },
   "outputs": [],
   "source": [
    "(x_train_input, y_train_input) = preprocess(x_train, y_train, 28*28, 10)"
   ]
  },
  {
   "cell_type": "code",
   "execution_count": null,
   "metadata": {
    "scrolled": true
   },
   "outputs": [
    {
     "name": "stdout",
     "output_type": "stream",
     "text": [
      "{'L1': 200.0, 'L2': 10.0, 'D1': 0.3, 'D2': 0.2, 'batch': 64.0}\n",
      "Train on 42000 samples, validate on 18000 samples\n",
      "Epoch 1/5\n",
      "42000/42000 [==============================] - 8s 180us/step - loss: 0.4082 - acc: 0.8809 - val_loss: 0.2077 - val_acc: 0.9401\n",
      "Epoch 2/5\n",
      "42000/42000 [==============================] - 5s 108us/step - loss: 0.1552 - acc: 0.9560 - val_loss: 0.1392 - val_acc: 0.9593\n",
      "Epoch 3/5\n",
      "42000/42000 [==============================] - 4s 100us/step - loss: 0.1060 - acc: 0.9705 - val_loss: 0.1184 - val_acc: 0.9643\n",
      "Epoch 4/5\n",
      "42000/42000 [==============================] - 5s 120us/step - loss: 0.0805 - acc: 0.9760 - val_loss: 0.1046 - val_acc: 0.9683\n",
      "Epoch 5/5\n",
      "42000/42000 [==============================] - 4s 97us/step - loss: 0.0618 - acc: 0.9818 - val_loss: 0.1026 - val_acc: 0.9694\n",
      "{'L1': 200.0, 'L2': 10.0, 'D1': 0.3, 'D2': 0.2, 'batch': 64.0}\n",
      "Train on 42000 samples, validate on 18000 samples\n",
      "Epoch 1/5\n",
      "42000/42000 [==============================] - 4s 102us/step - loss: 0.4603 - acc: 0.8593 - val_loss: 0.1975 - val_acc: 0.9425\n",
      "Epoch 2/5\n",
      "42000/42000 [==============================] - 4s 106us/step - loss: 0.1589 - acc: 0.9549 - val_loss: 0.1504 - val_acc: 0.9557\n",
      "Epoch 3/5\n",
      "42000/42000 [==============================] - 4s 107us/step - loss: 0.1090 - acc: 0.9685 - val_loss: 0.1133 - val_acc: 0.9670\n",
      "Epoch 4/5\n",
      "42000/42000 [==============================] - 4s 106us/step - loss: 0.0830 - acc: 0.9759 - val_loss: 0.1037 - val_acc: 0.9688\n",
      "Epoch 5/5\n",
      "42000/42000 [==============================] - 5s 109us/step - loss: 0.0639 - acc: 0.9806 - val_loss: 0.0982 - val_acc: 0.9715\n"
     ]
    },
    {
     "name": "stderr",
     "output_type": "stream",
     "text": [
      "INFO:plaidml:Opening device \"metal_amd_radeon_r9_m370x.0\"\n"
     ]
    },
    {
     "name": "stdout",
     "output_type": "stream",
     "text": [
      "8 scans will take roughly 176 seconds\n",
      "{'L1': 200.0, 'L2': 10.0, 'D1': 0.2, 'D2': 0.1, 'batch': 64.0}\n",
      "Train on 42000 samples, validate on 18000 samples\n",
      "Epoch 1/5\n",
      "42000/42000 [==============================] - 7s 172us/step - loss: 0.4004 - acc: 0.8840 - val_loss: 0.1975 - val_acc: 0.9439\n",
      "Epoch 2/5\n",
      "42000/42000 [==============================] - 4s 104us/step - loss: 0.1559 - acc: 0.9546 - val_loss: 0.1534 - val_acc: 0.9554\n",
      "Epoch 3/5\n",
      "42000/42000 [==============================] - 4s 106us/step - loss: 0.1079 - acc: 0.9681 - val_loss: 0.1170 - val_acc: 0.9658\n",
      "Epoch 4/5\n",
      "42000/42000 [==============================] - 4s 105us/step - loss: 0.0813 - acc: 0.9763 - val_loss: 0.1089 - val_acc: 0.9681\n",
      "Epoch 5/5\n",
      "42000/42000 [==============================] - 5s 110us/step - loss: 0.0634 - acc: 0.9811 - val_loss: 0.0999 - val_acc: 0.9721\n"
     ]
    },
    {
     "name": "stderr",
     "output_type": "stream",
     "text": [
      "INFO:plaidml:Opening device \"metal_amd_radeon_r9_m370x.0\"\n"
     ]
    },
    {
     "name": "stdout",
     "output_type": "stream",
     "text": [
      "{'L1': 500.0, 'L2': 10.0, 'D1': 0.3, 'D2': 0.1, 'batch': 64.0}\n",
      "Train on 42000 samples, validate on 18000 samples\n",
      "Epoch 1/5\n",
      "42000/42000 [==============================] - 8s 200us/step - loss: 0.4067 - acc: 0.8794 - val_loss: 0.1662 - val_acc: 0.9539\n",
      "Epoch 2/5\n",
      "42000/42000 [==============================] - 5s 117us/step - loss: 0.1324 - acc: 0.9630 - val_loss: 0.1243 - val_acc: 0.9626\n",
      "Epoch 3/5\n",
      "42000/42000 [==============================] - 5s 114us/step - loss: 0.0867 - acc: 0.9757 - val_loss: 0.1029 - val_acc: 0.9706\n",
      "Epoch 4/5\n",
      "42000/42000 [==============================] - 5s 124us/step - loss: 0.0611 - acc: 0.9814 - val_loss: 0.0885 - val_acc: 0.9731\n",
      "Epoch 5/5\n",
      "42000/42000 [==============================] - 5s 125us/step - loss: 0.0448 - acc: 0.9862 - val_loss: 0.0922 - val_acc: 0.9728\n"
     ]
    },
    {
     "name": "stderr",
     "output_type": "stream",
     "text": [
      "INFO:plaidml:Opening device \"metal_amd_radeon_r9_m370x.0\"\n"
     ]
    },
    {
     "name": "stdout",
     "output_type": "stream",
     "text": [
      "{'L1': 200.0, 'L2': 2.0, 'D1': 0.2, 'D2': 0.1, 'batch': 64.0}\n",
      "Train on 42000 samples, validate on 18000 samples\n",
      "Epoch 1/5\n",
      "42000/42000 [==============================] - 6s 149us/step - loss: 1.5294 - acc: 0.4300 - val_loss: 1.2580 - val_acc: 0.5573\n",
      "Epoch 2/5\n",
      "42000/42000 [==============================] - 4s 105us/step - loss: 1.1056 - acc: 0.6354 - val_loss: 0.9660 - val_acc: 0.7371\n",
      "Epoch 3/5\n",
      "42000/42000 [==============================] - 5s 112us/step - loss: 0.8420 - acc: 0.7652 - val_loss: 0.7837 - val_acc: 0.7843\n",
      "Epoch 4/5\n",
      "42000/42000 [==============================] - 5s 119us/step - loss: 0.6979 - acc: 0.8012 - val_loss: 0.6917 - val_acc: 0.8085\n",
      "Epoch 5/5\n",
      "42000/42000 [==============================] - 5s 122us/step - loss: 0.6087 - acc: 0.8173 - val_loss: 0.6419 - val_acc: 0.8116\n"
     ]
    },
    {
     "name": "stderr",
     "output_type": "stream",
     "text": [
      "INFO:plaidml:Opening device \"metal_amd_radeon_r9_m370x.0\"\n"
     ]
    },
    {
     "name": "stdout",
     "output_type": "stream",
     "text": [
      "{'L1': 500.0, 'L2': 2.0, 'D1': 0.2, 'D2': 0.1, 'batch': 64.0}\n",
      "Train on 42000 samples, validate on 18000 samples\n",
      "Epoch 1/5\n",
      "42000/42000 [==============================] - 7s 155us/step - loss: 1.5026 - acc: 0.4121 - val_loss: 1.2471 - val_acc: 0.5091\n",
      "Epoch 2/5\n",
      "42000/42000 [==============================] - 5s 120us/step - loss: 1.0813 - acc: 0.6681 - val_loss: 0.9103 - val_acc: 0.7874\n",
      "Epoch 3/5\n",
      "42000/42000 [==============================] - 5s 127us/step - loss: 0.7635 - acc: 0.8046 - val_loss: 0.7052 - val_acc: 0.8110\n",
      "Epoch 4/5\n",
      "42000/42000 [==============================] - 5s 126us/step - loss: 0.6046 - acc: 0.8241 - val_loss: 0.6258 - val_acc: 0.8154\n",
      "Epoch 5/5\n",
      "42000/42000 [==============================] - 5s 126us/step - loss: 0.5126 - acc: 0.8351 - val_loss: 0.5689 - val_acc: 0.8231\n"
     ]
    },
    {
     "name": "stderr",
     "output_type": "stream",
     "text": [
      "INFO:plaidml:Opening device \"metal_amd_radeon_r9_m370x.0\"\n"
     ]
    },
    {
     "name": "stdout",
     "output_type": "stream",
     "text": [
      "{'L1': 500.0, 'L2': 10.0, 'D1': 0.3, 'D2': 0.2, 'batch': 64.0}\n",
      "Train on 42000 samples, validate on 18000 samples\n",
      "Epoch 1/5\n",
      "42000/42000 [==============================] - 6s 133us/step - loss: 0.3631 - acc: 0.8991 - val_loss: 0.1625 - val_acc: 0.9547\n",
      "Epoch 2/5\n",
      "42000/42000 [==============================] - 6s 137us/step - loss: 0.1290 - acc: 0.9628 - val_loss: 0.1144 - val_acc: 0.9656\n",
      "Epoch 3/5\n",
      "42000/42000 [==============================] - 6s 143us/step - loss: 0.0825 - acc: 0.9754 - val_loss: 0.0976 - val_acc: 0.9706\n",
      "Epoch 4/5\n",
      "41920/42000 [============================>.] - ETA: 0s - loss: 0.0589 - acc: 0.9826"
     ]
    }
   ],
   "source": [
    "final_model = talos.Scan(x = x_train_input,\n",
    "                         y = y_train_input,\n",
    "                         params=parameters,\n",
    "                         model=create_model,\n",
    "                         grid_downsample=0.5,\n",
    "                         dataset_name='mnist',\n",
    "                         experiment_no='2'\n",
    "                        )\n",
    "\n",
    "# create_model(x_train_input, y_train_input, 'f', 'b', params2)"
   ]
  },
  {
   "cell_type": "code",
   "execution_count": null,
   "metadata": {
    "collapsed": true
   },
   "outputs": [],
   "source": [
    "(x_test_ip, y_test_ip) = preprocess(x_test, y_test, 28*28, 10)\n",
    "final_model.keras_model.evaluate(x_test_ip, y_test_ip)"
   ]
  },
  {
   "cell_type": "code",
   "execution_count": null,
   "metadata": {
    "collapsed": true
   },
   "outputs": [],
   "source": [
    "final_model.params"
   ]
  },
  {
   "cell_type": "code",
   "execution_count": null,
   "metadata": {
    "collapsed": true
   },
   "outputs": [],
   "source": []
  }
 ],
 "metadata": {
  "kernelspec": {
   "display_name": "Python 3",
   "language": "python",
   "name": "python3"
  },
  "language_info": {
   "codemirror_mode": {
    "name": "ipython",
    "version": 3
   },
   "file_extension": ".py",
   "mimetype": "text/x-python",
   "name": "python",
   "nbconvert_exporter": "python",
   "pygments_lexer": "ipython3",
   "version": "3.7.0"
  }
 },
 "nbformat": 4,
 "nbformat_minor": 2
}

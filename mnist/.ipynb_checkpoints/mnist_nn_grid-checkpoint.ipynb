{
 "cells": [
  {
   "cell_type": "code",
   "execution_count": 33,
   "metadata": {},
   "outputs": [],
   "source": [
    "from keras.datasets import mnist\n",
    "from keras.utils import np_utils\n",
    "from keras.models import Sequential\n",
    "from keras.layers import Dense, Dropout\n",
    "from keras.activations import relu, softmax\n",
    "from keras.optimizers import adam\n",
    "from keras.metrics import categorical_accuracy\n",
    "from keras.losses import categorical_crossentropy\n",
    "import talos\n",
    "import numpy"
   ]
  },
  {
   "cell_type": "code",
   "execution_count": 34,
   "metadata": {},
   "outputs": [],
   "source": [
    "(x_train, y_train), (x_test, y_test) = mnist.load_data()"
   ]
  },
  {
   "cell_type": "code",
   "execution_count": 35,
   "metadata": {},
   "outputs": [
    {
     "data": {
      "text/plain": [
       "(60000, 28, 28)"
      ]
     },
     "execution_count": 35,
     "metadata": {},
     "output_type": "execute_result"
    }
   ],
   "source": [
    "x_train.shape"
   ]
  },
  {
   "cell_type": "code",
   "execution_count": 36,
   "metadata": {},
   "outputs": [],
   "source": [
    "def preprocess(x, y, input_dim, output_dim):\n",
    "    x_processed = x.reshape(x.shape[0], input_dim).astype('float32')\n",
    "    x_processed = x_processed/255\n",
    "    y_processed = np_utils.to_categorical(y, output_dim)\n",
    "    return(x_processed, y_processed)"
   ]
  },
  {
   "cell_type": "code",
   "execution_count": 49,
   "metadata": {},
   "outputs": [],
   "source": [
    "def create_model(x_train, y_train, x_val, y_val, params):\n",
    "    model = Sequential()\n",
    "    model.add(Dense(10, activation = relu, input_shape=(28*28,)))\n",
    "    model.add(Dropout(0.2))\n",
    "    model.add(Dense(5, activation = relu))\n",
    "    model.add(Dropout(0.1))\n",
    "    model.add(Dense(10, activation = softmax))\n",
    "    \n",
    "    model.compile(adam(), loss=categorical_crossentropy, metrics=[categorical_accuracy])\n",
    "    out = model.fit(x_train, y_train, batch_size=64, epochs=5)\n",
    "    return out, model"
   ]
  },
  {
   "cell_type": "code",
   "execution_count": 50,
   "metadata": {},
   "outputs": [],
   "source": [
    "parameters = {\n",
    "    'L1': [50, 20],\n",
    "    'L2':[10, 5, 2],\n",
    "    'D1':[0.2, 0.3],\n",
    "    'D2':[0.2, 0.1],\n",
    "    'batch':[32,64,128]\n",
    "}"
   ]
  },
  {
   "cell_type": "code",
   "execution_count": 51,
   "metadata": {},
   "outputs": [],
   "source": [
    "(x_train_input, y_train_input) = preprocess(x_train, y_train, 28*28, 10)"
   ]
  },
  {
   "cell_type": "code",
   "execution_count": 52,
   "metadata": {},
   "outputs": [
    {
     "name": "stdout",
     "output_type": "stream",
     "text": [
      "Epoch 1/5\n",
      "60000/60000 [==============================] - 6s 97us/step - loss: 1.4482 - categorical_accuracy: 0.5211\n",
      "Epoch 2/5\n",
      "60000/60000 [==============================] - 4s 69us/step - loss: 1.0679 - categorical_accuracy: 0.6670\n",
      "Epoch 3/5\n",
      "60000/60000 [==============================] - 4s 69us/step - loss: 0.9707 - categorical_accuracy: 0.6935\n",
      "Epoch 4/5\n",
      "60000/60000 [==============================] - 4s 69us/step - loss: 0.9274 - categorical_accuracy: 0.7052\n",
      "Epoch 5/5\n",
      "60000/60000 [==============================] - 4s 71us/step - loss: 0.8997 - categorical_accuracy: 0.7136\n"
     ]
    }
   ],
   "source": [
    "final_model = talos.Scan(x = x_train_input,\n",
    "                         y = y_train_input,\n",
    "                         params=parameters,\n",
    "                         model=create_model,\n",
    "                         grid_downsample=0.5,\n",
    "                         dataset_name='mnist',\n",
    "                         experiment_no='2'\n",
    "                        )"
   ]
  },
  {
   "cell_type": "code",
   "execution_count": 56,
   "metadata": {},
   "outputs": [
    {
     "name": "stdout",
     "output_type": "stream",
     "text": [
      "10000/10000 [==============================] - 1s 146us/step\n"
     ]
    },
    {
     "data": {
      "text/plain": [
       "[0.5212361578226089, 0.8844]"
      ]
     },
     "execution_count": 56,
     "metadata": {},
     "output_type": "execute_result"
    }
   ],
   "source": [
    "(x_test_input, y_test_input) = preprocess(x_test, y_test, 28*28, 10)\n",
    "final_model[1].evaluate(x_test_input, y_test_input)"
   ]
  },
  {
   "cell_type": "code",
   "execution_count": null,
   "metadata": {},
   "outputs": [],
   "source": []
  }
 ],
 "metadata": {
  "kernelspec": {
   "display_name": "Python 3",
   "language": "python",
   "name": "python3"
  },
  "language_info": {
   "codemirror_mode": {
    "name": "ipython",
    "version": 3
   },
   "file_extension": ".py",
   "mimetype": "text/x-python",
   "name": "python",
   "nbconvert_exporter": "python",
   "pygments_lexer": "ipython3",
   "version": "3.7.0"
  }
 },
 "nbformat": 4,
 "nbformat_minor": 2
}
